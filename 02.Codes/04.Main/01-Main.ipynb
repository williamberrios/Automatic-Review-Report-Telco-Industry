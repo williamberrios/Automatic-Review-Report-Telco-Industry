{
 "cells": [
  {
   "cell_type": "code",
   "execution_count": 1,
   "metadata": {},
   "outputs": [],
   "source": [
    "import sys\n",
    "module_path = \"../../src\"\n",
    "if module_path not in sys.path:\n",
    "    sys.path.append(module_path)\n",
    "import pandas as pd\n",
    "import matplotlib.pyplot as plt\n",
    "from tqdm.notebook import tqdm\n",
    "import numpy as np\n",
    "import cv2\n",
    "import os\n",
    "import pickle\n",
    "from detector.detector import detector\n",
    "from modelo_firmas.inference import firmas_model\n",
    "from fechas.utils.inference import fecha_model\n",
    "import config\n",
    "\n",
    "PATH_DATASET = '../../01.Datasets/'\n",
    "PATH_IMG_DOCUMENT = os.path.join(PATH_DATASET,\"files/reference.png\")\n",
    "PATH_RESULTS_MODEL_FIRMAS = '../../03.SavedModels/modelo_firmas.h5'   "
   ]
  },
  {
   "cell_type": "code",
   "execution_count": 2,
   "metadata": {},
   "outputs": [],
   "source": [
    "def iterate_prediction(df_test,my_detector,my_firmas_model,my_fechas_model):\n",
    "    firma1_list = []\n",
    "    firma2_list = []\n",
    "\n",
    "    day_list = []\n",
    "    month_list = []\n",
    "    year_list = []\n",
    "\n",
    "    for idx in tqdm(range(len(df_test))):\n",
    "        id_name = df_test.iloc[idx]['id']\n",
    "        firma1_class,firma2_class,day,month,year = predict_image(id_name,my_detector,my_firmas_model,my_fechas_model)\n",
    "        firma1_list.append(firma1_class)\n",
    "        firma2_list.append(firma2_class)\n",
    "        day_list.append(day)\n",
    "        month_list.append(month)\n",
    "        year_list.append(year)\n",
    "    df_test['sign_1']= firma1_list\n",
    "    df_test['sign_2']= firma2_list\n",
    "    df_test['date_day']= day_list\n",
    "    df_test['date_month']= month_list\n",
    "    df_test['date_year']= year_list\n",
    "    return df_test"
   ]
  },
  {
   "cell_type": "code",
   "execution_count": 3,
   "metadata": {},
   "outputs": [],
   "source": [
    "def predict_image(id_name,my_detector,my_firmas_model,my_fechas_model):\n",
    "    imFilename = os.path.join(PATH_DATASET,'images_test',id_name)+'.jpg'\n",
    "    img = cv2.imread(imFilename)\n",
    "    img_aligned,fecha,firma1,firma2 = my_detector.predict(img)\n",
    "    firma1_class,score1 = my_firmas_model.predict(firma1)\n",
    "    firma2_class,score2 = my_firmas_model.predict(firma2)\n",
    "    fecha = my_fechas_model.predict_example(fecha)[0]\n",
    "    day,month,year = fecha[0],fecha[1],fecha[2]\n",
    "    return firma1_class,firma2_class,day,month,year\n",
    "    "
   ]
  },
  {
   "cell_type": "code",
   "execution_count": 4,
   "metadata": {},
   "outputs": [],
   "source": [
    "def main():\n",
    "    # Loading Models and Process\n",
    "    data_dict   = open(os.path.join(PATH_DATASET,\"data_dict.pkl\"), \"rb\")\n",
    "    data_dict   = pickle.load(data_dict)\n",
    "\n",
    "    my_detector     = detector(PATH_IMG_DOCUMENT)\n",
    "    my_firmas_model = firmas_model(PATH_RESULTS_MODEL_FIRMAS)\n",
    "    my_fechas_model = fecha_model(config,data_dict)\n",
    "    df_train = pd.read_csv(os.path.join(PATH_DATASET,'files/output_train.csv'),dtype=str)\n",
    "    df_test = pd.read_csv(os.path.join(PATH_DATASET,'files/sampleSubmission.csv'),dtype=str)\n",
    "    submission = iterate_prediction(df_test,my_detector,my_firmas_model,my_fechas_model)\n",
    "    submission.to_csv('submissions/final_submission.csv',index=False)"
   ]
  },
  {
   "cell_type": "code",
   "execution_count": 5,
   "metadata": {},
   "outputs": [
    {
     "name": "stdout",
     "output_type": "stream",
     "text": [
      "resnet152 does not have coco weights \n"
     ]
    },
    {
     "name": "stderr",
     "output_type": "stream",
     "text": [
      "/usr/local/lib/python3.6/dist-packages/albumentations/augmentations/transforms.py:1897: UserWarning: blur_limit and sigma_limit minimum value can not be both equal to 0. blur_limit minimum value changed to 3.\n",
      "  \"blur_limit and sigma_limit minimum value can not be both equal to 0. \"\n"
     ]
    },
    {
     "data": {
      "application/vnd.jupyter.widget-view+json": {
       "model_id": "07c28abdea904fe4a4832f9ab5e012bc",
       "version_major": 2,
       "version_minor": 0
      },
      "text/plain": [
       "HBox(children=(FloatProgress(value=0.0, max=107.0), HTML(value='')))"
      ]
     },
     "metadata": {},
     "output_type": "display_data"
    },
    {
     "name": "stderr",
     "output_type": "stream",
     "text": [
      "1it [00:00,  1.87it/s]\n",
      "1it [00:00,  3.95it/s]\n",
      "1it [00:00,  3.92it/s]\n",
      "1it [00:00,  3.87it/s]\n",
      "1it [00:00,  3.95it/s]\n",
      "1it [00:00,  3.84it/s]\n",
      "1it [00:00,  3.35it/s]\n",
      "1it [00:00,  3.94it/s]\n",
      "1it [00:00,  3.80it/s]\n",
      "1it [00:00,  3.22it/s]\n",
      "1it [00:00,  3.10it/s]\n",
      "1it [00:00,  3.74it/s]\n",
      "1it [00:00,  3.89it/s]\n",
      "1it [00:00,  3.49it/s]\n",
      "1it [00:00,  3.35it/s]\n",
      "1it [00:00,  2.93it/s]\n",
      "1it [00:00,  3.81it/s]\n",
      "1it [00:00,  3.68it/s]\n",
      "1it [00:00,  3.90it/s]\n",
      "1it [00:00,  4.09it/s]\n",
      "1it [00:00,  3.22it/s]\n",
      "1it [00:00,  4.04it/s]\n",
      "1it [00:00,  3.76it/s]\n",
      "1it [00:00,  3.41it/s]\n",
      "1it [00:00,  3.39it/s]\n",
      "1it [00:00,  2.84it/s]\n",
      "1it [00:00,  3.94it/s]\n",
      "1it [00:00,  3.39it/s]\n",
      "1it [00:00,  3.52it/s]\n",
      "1it [00:00,  3.89it/s]\n",
      "1it [00:00,  3.89it/s]\n",
      "1it [00:00,  3.72it/s]\n",
      "1it [00:00,  3.99it/s]\n",
      "1it [00:00,  3.85it/s]\n",
      "1it [00:00,  3.38it/s]\n",
      "1it [00:00,  3.55it/s]\n",
      "1it [00:00,  3.70it/s]\n",
      "1it [00:00,  3.52it/s]\n",
      "1it [00:00,  3.77it/s]\n",
      "1it [00:00,  3.74it/s]\n",
      "1it [00:00,  3.72it/s]\n",
      "1it [00:00,  3.59it/s]\n",
      "1it [00:00,  3.58it/s]\n",
      "1it [00:00,  3.58it/s]\n",
      "1it [00:00,  3.62it/s]\n",
      "1it [00:00,  3.54it/s]\n",
      "1it [00:00,  3.78it/s]\n",
      "1it [00:00,  2.21it/s]\n",
      "1it [00:00,  3.47it/s]\n",
      "1it [00:00,  3.61it/s]\n",
      "1it [00:00,  3.92it/s]\n",
      "1it [00:00,  3.38it/s]\n",
      "1it [00:00,  3.31it/s]\n",
      "1it [00:00,  3.64it/s]\n",
      "1it [00:00,  3.29it/s]\n",
      "1it [00:00,  3.58it/s]\n",
      "1it [00:00,  3.67it/s]\n",
      "1it [00:00,  3.33it/s]\n",
      "1it [00:00,  2.99it/s]\n",
      "1it [00:00,  3.74it/s]\n",
      "1it [00:00,  3.43it/s]\n",
      "1it [00:00,  3.72it/s]\n",
      "1it [00:00,  3.55it/s]\n",
      "1it [00:00,  3.75it/s]\n",
      "1it [00:00,  3.57it/s]\n",
      "1it [00:00,  3.37it/s]\n",
      "1it [00:00,  3.49it/s]\n",
      "1it [00:00,  3.34it/s]\n",
      "1it [00:00,  3.76it/s]\n",
      "1it [00:00,  3.72it/s]\n",
      "1it [00:00,  3.68it/s]\n",
      "1it [00:00,  3.62it/s]\n",
      "1it [00:00,  3.18it/s]\n",
      "1it [00:00,  3.37it/s]\n",
      "1it [00:00,  3.21it/s]\n",
      "1it [00:00,  3.61it/s]\n",
      "1it [00:00,  3.69it/s]\n",
      "1it [00:00,  2.94it/s]\n",
      "1it [00:00,  3.53it/s]\n",
      "1it [00:00,  3.44it/s]\n",
      "1it [00:00,  3.72it/s]\n",
      "1it [00:00,  3.79it/s]\n",
      "1it [00:00,  3.82it/s]\n",
      "1it [00:00,  3.50it/s]\n",
      "1it [00:00,  3.61it/s]\n",
      "1it [00:00,  2.96it/s]\n",
      "1it [00:00,  3.38it/s]\n",
      "1it [00:00,  3.48it/s]\n",
      "1it [00:00,  3.46it/s]\n",
      "1it [00:00,  3.59it/s]\n",
      "1it [00:00,  3.43it/s]\n",
      "1it [00:00,  3.46it/s]\n",
      "1it [00:00,  3.61it/s]\n",
      "1it [00:00,  3.86it/s]\n",
      "1it [00:00,  3.47it/s]\n",
      "1it [00:00,  3.46it/s]\n",
      "1it [00:00,  3.29it/s]\n",
      "1it [00:00,  3.45it/s]\n",
      "1it [00:00,  3.71it/s]\n",
      "1it [00:00,  3.72it/s]\n",
      "1it [00:00,  3.65it/s]\n",
      "1it [00:00,  3.07it/s]\n",
      "1it [00:00,  3.59it/s]\n",
      "1it [00:00,  3.48it/s]\n",
      "1it [00:00,  3.46it/s]\n",
      "1it [00:00,  3.28it/s]\n",
      "1it [00:00,  3.26it/s]"
     ]
    },
    {
     "name": "stdout",
     "output_type": "stream",
     "text": [
      "\n"
     ]
    },
    {
     "name": "stderr",
     "output_type": "stream",
     "text": [
      "\n"
     ]
    }
   ],
   "source": [
    "if __name__ == '__main__':\n",
    "    main()"
   ]
  }
 ],
 "metadata": {
  "kernelspec": {
   "display_name": "Python 3",
   "language": "python",
   "name": "python3"
  },
  "language_info": {
   "codemirror_mode": {
    "name": "ipython",
    "version": 3
   },
   "file_extension": ".py",
   "mimetype": "text/x-python",
   "name": "python",
   "nbconvert_exporter": "python",
   "pygments_lexer": "ipython3",
   "version": "3.6.9"
  }
 },
 "nbformat": 4,
 "nbformat_minor": 5
}
